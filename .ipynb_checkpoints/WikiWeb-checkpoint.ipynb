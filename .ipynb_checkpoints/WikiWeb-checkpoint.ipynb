{
 "cells": [
  {
   "cell_type": "markdown",
   "metadata": {},
   "source": [
    "# Network Series\n",
    "\n",
    "### Why Wikipedia?\n",
    "\n",
    "Wikipedia is open source, consistent and interesting.\n",
    "\n",
    "### Skills used:\n",
    "\n",
    "* web crawling with [Beautiful Soup](https://www.crummy.com/software/BeautifulSoup/)\n",
    "* network analysis with [NetworkX](https://networkx.github.io/)\n",
    "\n",
    "### WikiWeb\n",
    "\n",
    "1. Links\n",
    "3. Matrix\n",
    "4. Network\n",
    "5. Shortest Path\n"
   ]
  },
  {
   "cell_type": "markdown",
   "metadata": {},
   "source": [
    "## Links\n",
    "\n"
   ]
  },
  {
   "cell_type": "code",
   "execution_count": 8,
   "metadata": {
    "collapsed": false
   },
   "outputs": [
    {
     "data": {
      "text/html": [
       "<div>\n",
       "<table border=\"1\" class=\"dataframe\">\n",
       "  <thead>\n",
       "    <tr style=\"text-align: right;\">\n",
       "      <th></th>\n",
       "      <th>links</th>\n",
       "    </tr>\n",
       "  </thead>\n",
       "  <tbody>\n",
       "    <tr>\n",
       "      <th>0</th>\n",
       "      <td>/wiki/Information_science</td>\n",
       "    </tr>\n",
       "    <tr>\n",
       "      <th>1</th>\n",
       "      <td>/wiki/Statistics</td>\n",
       "    </tr>\n",
       "    <tr>\n",
       "      <th>2</th>\n",
       "      <td>/wiki/Data_visualization</td>\n",
       "    </tr>\n",
       "    <tr>\n",
       "      <th>3</th>\n",
       "      <td>/wiki/Exploratory_data_analysis</td>\n",
       "    </tr>\n",
       "    <tr>\n",
       "      <th>4</th>\n",
       "      <td>/wiki/Information_design</td>\n",
       "    </tr>\n",
       "  </tbody>\n",
       "</table>\n",
       "</div>"
      ],
      "text/plain": [
       "                             links\n",
       "0        /wiki/Information_science\n",
       "1                 /wiki/Statistics\n",
       "2         /wiki/Data_visualization\n",
       "3  /wiki/Exploratory_data_analysis\n",
       "4         /wiki/Information_design"
      ]
     },
     "execution_count": 8,
     "metadata": {},
     "output_type": "execute_result"
    }
   ],
   "source": [
    "import pandas as pd\n",
    "from wiki_web_crawler import WikiWeb\n",
    "\n",
    "links = pd.DataFrame({'links': WikiWeb('https://en.wikipedia.org/wiki/Data_science').links()})\n",
    "\n",
    "links.head()"
   ]
  },
  {
   "cell_type": "markdown",
   "metadata": {},
   "source": [
    "## Matrix"
   ]
  },
  {
   "cell_type": "code",
   "execution_count": 1,
   "metadata": {
    "collapsed": false
   },
   "outputs": [
    {
     "name": "stderr",
     "output_type": "stream",
     "text": [
      "//anaconda/lib/python3.5/site-packages/pandas/computation/__init__.py:19: UserWarning: The installed version of numexpr 2.4.4 is not supported in pandas and will be not be used\n",
      "\n",
      "  UserWarning)\n"
     ]
    },
    {
     "data": {
      "text/html": [
       "<div>\n",
       "<table border=\"1\" class=\"dataframe\">\n",
       "  <thead>\n",
       "    <tr style=\"text-align: right;\">\n",
       "      <th></th>\n",
       "      <th>/wiki/Information_science</th>\n",
       "      <th>/wiki/Statistics</th>\n",
       "      <th>/wiki/Data_visualization</th>\n",
       "      <th>/wiki/Exploratory_data_analysis</th>\n",
       "      <th>/wiki/Information_design</th>\n",
       "      <th>/wiki/Interactive_data_visualization</th>\n",
       "      <th>/wiki/Descriptive_statistics</th>\n",
       "      <th>/wiki/Statistical_inference</th>\n",
       "      <th>/wiki/Statistical_graphics</th>\n",
       "      <th>/wiki/Plot_(graphics)</th>\n",
       "      <th>...</th>\n",
       "      <th>/wiki/Nate_Silver</th>\n",
       "      <th>/wiki/List_of_statistical_packages</th>\n",
       "      <th>/wiki/Open_source</th>\n",
       "      <th>/wiki/Northwestern_University</th>\n",
       "      <th>/wiki/International_Standard_Serial_Number</th>\n",
       "      <th>/wiki/Forbes.com</th>\n",
       "      <th>/wiki/TechRepublic</th>\n",
       "      <th>/wiki/IBM_DeveloperWorks</th>\n",
       "      <th>/wiki/IBM</th>\n",
       "      <th>/wiki/O%27Reilly_Media</th>\n",
       "    </tr>\n",
       "  </thead>\n",
       "  <tbody>\n",
       "    <tr>\n",
       "      <th>/wiki/Information_science</th>\n",
       "      <td>0</td>\n",
       "      <td>0</td>\n",
       "      <td>1</td>\n",
       "      <td>0</td>\n",
       "      <td>0</td>\n",
       "      <td>0</td>\n",
       "      <td>0</td>\n",
       "      <td>0</td>\n",
       "      <td>1</td>\n",
       "      <td>1</td>\n",
       "      <td>...</td>\n",
       "      <td>0</td>\n",
       "      <td>0</td>\n",
       "      <td>0</td>\n",
       "      <td>0</td>\n",
       "      <td>0</td>\n",
       "      <td>0</td>\n",
       "      <td>0</td>\n",
       "      <td>0</td>\n",
       "      <td>0</td>\n",
       "      <td>0</td>\n",
       "    </tr>\n",
       "    <tr>\n",
       "      <th>/wiki/Statistics</th>\n",
       "      <td>0</td>\n",
       "      <td>0</td>\n",
       "      <td>1</td>\n",
       "      <td>1</td>\n",
       "      <td>1</td>\n",
       "      <td>1</td>\n",
       "      <td>1</td>\n",
       "      <td>1</td>\n",
       "      <td>1</td>\n",
       "      <td>1</td>\n",
       "      <td>...</td>\n",
       "      <td>0</td>\n",
       "      <td>1</td>\n",
       "      <td>0</td>\n",
       "      <td>0</td>\n",
       "      <td>0</td>\n",
       "      <td>0</td>\n",
       "      <td>0</td>\n",
       "      <td>0</td>\n",
       "      <td>0</td>\n",
       "      <td>0</td>\n",
       "    </tr>\n",
       "    <tr>\n",
       "      <th>/wiki/Data_visualization</th>\n",
       "      <td>0</td>\n",
       "      <td>0</td>\n",
       "      <td>0</td>\n",
       "      <td>1</td>\n",
       "      <td>1</td>\n",
       "      <td>1</td>\n",
       "      <td>0</td>\n",
       "      <td>0</td>\n",
       "      <td>1</td>\n",
       "      <td>1</td>\n",
       "      <td>...</td>\n",
       "      <td>0</td>\n",
       "      <td>1</td>\n",
       "      <td>0</td>\n",
       "      <td>0</td>\n",
       "      <td>0</td>\n",
       "      <td>0</td>\n",
       "      <td>0</td>\n",
       "      <td>0</td>\n",
       "      <td>0</td>\n",
       "      <td>0</td>\n",
       "    </tr>\n",
       "    <tr>\n",
       "      <th>/wiki/Exploratory_data_analysis</th>\n",
       "      <td>0</td>\n",
       "      <td>0</td>\n",
       "      <td>1</td>\n",
       "      <td>0</td>\n",
       "      <td>1</td>\n",
       "      <td>1</td>\n",
       "      <td>1</td>\n",
       "      <td>0</td>\n",
       "      <td>1</td>\n",
       "      <td>1</td>\n",
       "      <td>...</td>\n",
       "      <td>0</td>\n",
       "      <td>0</td>\n",
       "      <td>0</td>\n",
       "      <td>0</td>\n",
       "      <td>0</td>\n",
       "      <td>0</td>\n",
       "      <td>0</td>\n",
       "      <td>0</td>\n",
       "      <td>0</td>\n",
       "      <td>0</td>\n",
       "    </tr>\n",
       "    <tr>\n",
       "      <th>/wiki/Information_design</th>\n",
       "      <td>0</td>\n",
       "      <td>0</td>\n",
       "      <td>1</td>\n",
       "      <td>1</td>\n",
       "      <td>0</td>\n",
       "      <td>1</td>\n",
       "      <td>0</td>\n",
       "      <td>0</td>\n",
       "      <td>1</td>\n",
       "      <td>0</td>\n",
       "      <td>...</td>\n",
       "      <td>0</td>\n",
       "      <td>0</td>\n",
       "      <td>0</td>\n",
       "      <td>0</td>\n",
       "      <td>0</td>\n",
       "      <td>0</td>\n",
       "      <td>0</td>\n",
       "      <td>0</td>\n",
       "      <td>0</td>\n",
       "      <td>0</td>\n",
       "    </tr>\n",
       "  </tbody>\n",
       "</table>\n",
       "<p>5 rows × 103 columns</p>\n",
       "</div>"
      ],
      "text/plain": [
       "                                 /wiki/Information_science  /wiki/Statistics  \\\n",
       "/wiki/Information_science                                0                 0   \n",
       "/wiki/Statistics                                         0                 0   \n",
       "/wiki/Data_visualization                                 0                 0   \n",
       "/wiki/Exploratory_data_analysis                          0                 0   \n",
       "/wiki/Information_design                                 0                 0   \n",
       "\n",
       "                                 /wiki/Data_visualization  \\\n",
       "/wiki/Information_science                               1   \n",
       "/wiki/Statistics                                        1   \n",
       "/wiki/Data_visualization                                0   \n",
       "/wiki/Exploratory_data_analysis                         1   \n",
       "/wiki/Information_design                                1   \n",
       "\n",
       "                                 /wiki/Exploratory_data_analysis  \\\n",
       "/wiki/Information_science                                      0   \n",
       "/wiki/Statistics                                               1   \n",
       "/wiki/Data_visualization                                       1   \n",
       "/wiki/Exploratory_data_analysis                                0   \n",
       "/wiki/Information_design                                       1   \n",
       "\n",
       "                                 /wiki/Information_design  \\\n",
       "/wiki/Information_science                               0   \n",
       "/wiki/Statistics                                        1   \n",
       "/wiki/Data_visualization                                1   \n",
       "/wiki/Exploratory_data_analysis                         1   \n",
       "/wiki/Information_design                                0   \n",
       "\n",
       "                                 /wiki/Interactive_data_visualization  \\\n",
       "/wiki/Information_science                                           0   \n",
       "/wiki/Statistics                                                    1   \n",
       "/wiki/Data_visualization                                            1   \n",
       "/wiki/Exploratory_data_analysis                                     1   \n",
       "/wiki/Information_design                                            1   \n",
       "\n",
       "                                 /wiki/Descriptive_statistics  \\\n",
       "/wiki/Information_science                                   0   \n",
       "/wiki/Statistics                                            1   \n",
       "/wiki/Data_visualization                                    0   \n",
       "/wiki/Exploratory_data_analysis                             1   \n",
       "/wiki/Information_design                                    0   \n",
       "\n",
       "                                 /wiki/Statistical_inference  \\\n",
       "/wiki/Information_science                                  0   \n",
       "/wiki/Statistics                                           1   \n",
       "/wiki/Data_visualization                                   0   \n",
       "/wiki/Exploratory_data_analysis                            0   \n",
       "/wiki/Information_design                                   0   \n",
       "\n",
       "                                 /wiki/Statistical_graphics  \\\n",
       "/wiki/Information_science                                 1   \n",
       "/wiki/Statistics                                          1   \n",
       "/wiki/Data_visualization                                  1   \n",
       "/wiki/Exploratory_data_analysis                           1   \n",
       "/wiki/Information_design                                  1   \n",
       "\n",
       "                                 /wiki/Plot_(graphics)  \\\n",
       "/wiki/Information_science                            1   \n",
       "/wiki/Statistics                                     1   \n",
       "/wiki/Data_visualization                             1   \n",
       "/wiki/Exploratory_data_analysis                      1   \n",
       "/wiki/Information_design                             0   \n",
       "\n",
       "                                          ...            /wiki/Nate_Silver  \\\n",
       "/wiki/Information_science                 ...                            0   \n",
       "/wiki/Statistics                          ...                            0   \n",
       "/wiki/Data_visualization                  ...                            0   \n",
       "/wiki/Exploratory_data_analysis           ...                            0   \n",
       "/wiki/Information_design                  ...                            0   \n",
       "\n",
       "                                 /wiki/List_of_statistical_packages  \\\n",
       "/wiki/Information_science                                         0   \n",
       "/wiki/Statistics                                                  1   \n",
       "/wiki/Data_visualization                                          1   \n",
       "/wiki/Exploratory_data_analysis                                   0   \n",
       "/wiki/Information_design                                          0   \n",
       "\n",
       "                                 /wiki/Open_source  \\\n",
       "/wiki/Information_science                        0   \n",
       "/wiki/Statistics                                 0   \n",
       "/wiki/Data_visualization                         0   \n",
       "/wiki/Exploratory_data_analysis                  0   \n",
       "/wiki/Information_design                         0   \n",
       "\n",
       "                                 /wiki/Northwestern_University  \\\n",
       "/wiki/Information_science                                    0   \n",
       "/wiki/Statistics                                             0   \n",
       "/wiki/Data_visualization                                     0   \n",
       "/wiki/Exploratory_data_analysis                              0   \n",
       "/wiki/Information_design                                     0   \n",
       "\n",
       "                                 /wiki/International_Standard_Serial_Number  \\\n",
       "/wiki/Information_science                                                 0   \n",
       "/wiki/Statistics                                                          0   \n",
       "/wiki/Data_visualization                                                  0   \n",
       "/wiki/Exploratory_data_analysis                                           0   \n",
       "/wiki/Information_design                                                  0   \n",
       "\n",
       "                                 /wiki/Forbes.com  /wiki/TechRepublic  \\\n",
       "/wiki/Information_science                       0                   0   \n",
       "/wiki/Statistics                                0                   0   \n",
       "/wiki/Data_visualization                        0                   0   \n",
       "/wiki/Exploratory_data_analysis                 0                   0   \n",
       "/wiki/Information_design                        0                   0   \n",
       "\n",
       "                                 /wiki/IBM_DeveloperWorks  /wiki/IBM  \\\n",
       "/wiki/Information_science                               0          0   \n",
       "/wiki/Statistics                                        0          0   \n",
       "/wiki/Data_visualization                                0          0   \n",
       "/wiki/Exploratory_data_analysis                         0          0   \n",
       "/wiki/Information_design                                0          0   \n",
       "\n",
       "                                 /wiki/O%27Reilly_Media  \n",
       "/wiki/Information_science                             0  \n",
       "/wiki/Statistics                                      0  \n",
       "/wiki/Data_visualization                              0  \n",
       "/wiki/Exploratory_data_analysis                       0  \n",
       "/wiki/Information_design                              0  \n",
       "\n",
       "[5 rows x 103 columns]"
      ]
     },
     "execution_count": 1,
     "metadata": {},
     "output_type": "execute_result"
    }
   ],
   "source": [
    "from wiki_web_crawler import WikiWeb\n",
    "import pandas as pd\n",
    "\n",
    "matrix = WikiWeb('https://en.wikipedia.org/wiki/Data_science').matrix()\n",
    "links = WikiWeb('https://en.wikipedia.org/wiki/Data_science').links()\n",
    "\n",
    "df = pd.DataFrame({})\n",
    "\n",
    "count = 0\n",
    "for array in matrix:\n",
    "    df[links[count]] = pd.Series(matrix[count], index=links)\n",
    "    count += 1\n",
    "\n",
    "df.head()"
   ]
  },
  {
   "cell_type": "markdown",
   "metadata": {
    "collapsed": true
   },
   "source": [
    "## Network"
   ]
  },
  {
   "cell_type": "code",
   "execution_count": 2,
   "metadata": {
    "collapsed": false
   },
   "outputs": [
    {
     "name": "stdout",
     "output_type": "stream",
     "text": [
      "High five! You successfuly sent some data to your account on plotly. View your plot in your browser at https://plot.ly/~tyfal/0 or inside your plot.ly account where it is named 'wiki-network'\n"
     ]
    }
   ],
   "source": [
    "from wiki_web_crawler import WikiWeb\n",
    "\n",
    "WikiWeb('https://en.wikipedia.org/wiki/Data_science').network()"
   ]
  },
  {
   "cell_type": "markdown",
   "metadata": {},
   "source": [
    "## Shortest Path"
   ]
  },
  {
   "cell_type": "code",
   "execution_count": 1,
   "metadata": {
    "collapsed": false
   },
   "outputs": [
    {
     "name": "stderr",
     "output_type": "stream",
     "text": [
      "//anaconda/lib/python3.5/site-packages/pandas/computation/__init__.py:19: UserWarning: The installed version of numexpr 2.4.4 is not supported in pandas and will be not be used\n",
      "\n",
      "  UserWarning)\n"
     ]
    },
    {
     "name": "stdout",
     "output_type": "stream",
     "text": [
      "0.231576\n",
      "521.826566\n",
      "1.4635859999999639\n"
     ]
    },
    {
     "data": {
      "text/plain": [
       "['/wiki/Data_science',\n",
       " '/wiki/Information_design',\n",
       " '/wiki/Automotive_design',\n",
       " '/wiki/Lamborghini']"
      ]
     },
     "execution_count": 1,
     "metadata": {},
     "output_type": "execute_result"
    }
   ],
   "source": [
    "from wiki_web_crawler import WikiWeb\n",
    "\n",
    "WikiWeb('https://en.wikipedia.org/wiki/Data_science').shortest_path('https://en.wikipedia.org/wiki/Lamborghini')"
   ]
  },
  {
   "cell_type": "code",
   "execution_count": null,
   "metadata": {
    "collapsed": true
   },
   "outputs": [],
   "source": []
  }
 ],
 "metadata": {
  "kernelspec": {
   "display_name": "Python 3",
   "language": "python",
   "name": "python3"
  },
  "language_info": {
   "codemirror_mode": {
    "name": "ipython",
    "version": 3
   },
   "file_extension": ".py",
   "mimetype": "text/x-python",
   "name": "python",
   "nbconvert_exporter": "python",
   "pygments_lexer": "ipython3",
   "version": "3.5.2"
  }
 },
 "nbformat": 4,
 "nbformat_minor": 0
}
