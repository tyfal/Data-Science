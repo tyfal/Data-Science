{
 "cells": [
  {
   "cell_type": "code",
   "execution_count": 5,
   "metadata": {
    "collapsed": false,
    "scrolled": true
   },
   "outputs": [
    {
     "name": "stdout",
     "output_type": "stream",
     "text": [
      "  * [Find jobs](/en)\n",
      "  * [Amazon culture &amp; benefits](/en/working/working-amazon)\n",
      "  * [Locations](/en/locations)\n",
      "  * [Teams](/en/business_categories)\n",
      "  * [Job categories](/en/job_categories)\n",
      "  * [Help](/en/faqs)\n",
      "  * [Čeština](/cs/business_categories/university-recruiting)\n",
      "  * [Deutsch](/de/business_categories/university-recruiting)\n",
      "  * [English](/en/business_categories/university-recruiting)\n",
      "  * [English, British](/en-gb/business_categories/university-recruiting)\n",
      "  * [Español (Europeo)](/es/business_categories/university-recruiting)\n",
      "  * [Français](/fr/business_categories/university-recruiting)\n",
      "  * [Italiano](/it/business_categories/university-recruiting)\n",
      "  * [日本語](/jp/business_categories/university-recruiting)\n",
      "  * [Polski](/pl/business_categories/university-recruiting)\n",
      "  * [Português, Brasil](/pt/business_categories/university-recruiting)\n",
      "  * [简体中文](/zh/business_categories/university-recruiting)\n",
      "[](/en)\n",
      "](/en)\n",
      "![](https://static.amazon.jobs/business_categories/14/images/uni-bc-\n",
      "hdr.jpg?1469074250)![](https://static.amazon.jobs/business_categories/14/thumbnails/mod-\n",
      "[](https://www.facebook.com/InsideAmazon/?Amazon.jobs=footer)[](https://www.linkedin.com/company/amazon?Amazon.jobs=footer)[](https://www.instagram.com/insideamazon/?Amazon.jobs=footer)[](https://twitter.com/InsideAmazon?Amazon.jobs=footer)\n",
      "  * [Job Categories](/en/job_categories)\n",
      "  * [Teams](/en/business_categories)\n",
      "  * [Locations](/en/locations)\n",
      "  * [Military recruiting](/en/military)\n",
      "  * [Fulfillment center jobs](/en/business_categories/fulfillment-operations)\n",
      "  * [Culture](/en/working/working-amazon)\n",
      "  * [Benefits](/en/benefits)\n",
      "  * [Pioneer stories](/en/pioneers)\n",
      "  * [Diversity at Amazon](http://www.amazon.com/b/ref=tb_surl_diversity/?node=10080092011)\n",
      "  * [Our leadership principles](/en/principles)\n",
      "  * [FAQ](/en/faqs)\n",
      "  * [How to apply](/en/faqs#applying-at-amazon)\n",
      "  * [Disability accommodations](/en/disability/us)\n",
      "  * [EU Data policy](/en/eu_data_policy)\n",
      "  * [](/en)\n",
      "Amazon is an Equal Opportunity-Affirmative Action Employer – Minority / Female\n",
      "/ Disability / Veteran / Gender Identity / Sexual Orientation.\n",
      "[Privacy and Data](/en/privacy/us)[Impressum](/en/impressum)\n",
      "Amazon is an Equal Opportunity-Affirmative Action Employer – Minority / Female\n",
      "/ Disability / Veteran / Gender Identity / Sexual Orientation.\n"
     ]
    }
   ],
   "source": [
    "from html2text import html2text\n",
    "import requests\n",
    "\n",
    "r = requests.get('https://www.amazon.jobs/en/business_categories/university-recruiting?base_query=&loc_query=&job_count=10&result_limit=10&sort=relevant&cache')\n",
    "\n",
    "for line in html2text(r.text).split('\\n'):\n",
    "    if '/' in line.lower():\n",
    "        print(line)"
   ]
  },
  {
   "cell_type": "code",
   "execution_count": 14,
   "metadata": {
    "collapsed": false
   },
   "outputs": [
    {
     "name": "stdout",
     "output_type": "stream",
     "text": [
      "Menu\n",
      "Find jobs\n",
      "At Amazon, our evolution has been driven by the spirit of innovation that is part of our DNA. As a new college graduate or intern, you can have multiple opportunities to innovate and solve real-world, complex technical and business problems as you join us on our journey.\n",
      "We strive to hire the brightest minds from universities around the globe, and have various career opportunities available for undergraduates and advanced degree students with diverse academic backgrounds.\n",
      "The work environment here is fast-paced and continually evolving, and every Amazonian is passionate about ownership and delivering results for the company. If you want to work in an environment that will challenge you to relentlessly improve the Amazon experience for our customers, where each day is different from the next, and your learning never truly ends, take a look at Amazon’s many University opportunities.\n",
      "JOIN US ON\n",
      "Find Careers\n",
      "Working At Amazon\n",
      "Help\n"
     ]
    }
   ],
   "source": [
    "import requests\n",
    "import bs4 as bs\n",
    "\n",
    "sauce = requests.get('https://www.amazon.jobs/en/business_categories/university-recruiting?base_query=&loc_query=&job_count=10&result_limit=10&sort=relevant&cache').text\n",
    "soup = bs.BeautifulSoup(sauce, 'lxml')\n",
    "\n",
    "\n",
    "#print(soup.get_text())\n",
    "\n",
    "body = soup.body\n",
    "for paragraph in body.find_all('p'):\n",
    "    print(paragraph.text)"
   ]
  },
  {
   "cell_type": "code",
   "execution_count": null,
   "metadata": {
    "collapsed": true
   },
   "outputs": [],
   "source": []
  }
 ],
 "metadata": {
  "kernelspec": {
   "display_name": "Python 3",
   "language": "python",
   "name": "python3"
  },
  "language_info": {
   "codemirror_mode": {
    "name": "ipython",
    "version": 3
   },
   "file_extension": ".py",
   "mimetype": "text/x-python",
   "name": "python",
   "nbconvert_exporter": "python",
   "pygments_lexer": "ipython3",
   "version": "3.5.2"
  }
 },
 "nbformat": 4,
 "nbformat_minor": 0
}
