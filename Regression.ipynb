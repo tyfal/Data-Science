{
 "cells": [
  {
   "cell_type": "code",
   "execution_count": 2,
   "metadata": {
    "collapsed": false
   },
   "outputs": [
    {
     "name": "stderr",
     "output_type": "stream",
     "text": [
      "//anaconda/lib/python3.5/site-packages/pandas/computation/__init__.py:19: UserWarning: The installed version of numexpr 2.4.4 is not supported in pandas and will be not be used\n",
      "\n",
      "  UserWarning)\n"
     ]
    }
   ],
   "source": [
    "%matplotlib inline \n",
    "#!/usr/bin/env python3\n",
    "# -*- coding: utf-8 -*-\n",
    "\"\"\"\n",
    "Created on Mon Oct 24 23:33:42 2016\n",
    "\n",
    "@author: tyfal\n",
    "\"\"\"\n",
    "import numpy as np\n",
    "import pandas as pd\n",
    "import pylab, quandl\n",
    "import matplotlib.pyplot as plt\n",
    "\n",
    "\n",
    "class Reg:\n",
    "    \n",
    "    \n",
    "    def ols_estimate(self, x, series_x, series_y):\n",
    "        \n",
    "        #dataframe from series'\n",
    "        df = ({'serx':pd.Series(series_x), 'sery':pd.Series(series_y)})\n",
    "        \n",
    "        #b1\n",
    "        b1 = np.corrcoef(df['serx'], df['sery'])[0,1]\n",
    "        \n",
    "        #b0\n",
    "        b0 = np.mean(df['sery']) - b1*np.mean(df['serx'])            \n",
    "        \n",
    "        #making prediction\n",
    "        y = b0 + b1*x\n",
    "        \n",
    "        return y\n",
    "        \n",
    "        \n",
    "    def r_squared(self, series_x, series_y):\n",
    "        \n",
    "        #dataframe from series'\n",
    "        df = ({'serx':pd.Series(series_x), 'sery':pd.Series(series_y)})\n",
    "        \n",
    "        #b1\n",
    "        b1 = np.corrcoef(df['serx'], df['sery'])[0,1]\n",
    "        \n",
    "        #R**2\n",
    "        r_squared = b1**2\n",
    "        \n",
    "        return r_squared\n",
    "        \n",
    "        \n",
    "    def plot(self, series_x, series_y):\n",
    "        \n",
    "        #dtaframe from series'\n",
    "        df = ({'serx':pd.Series(series_x), 'sery':pd.Series(series_y)})\n",
    "        \n",
    "        #regression line\n",
    "        estimates = []\n",
    "        [estimates.append(self.ols_estimate(x, df['serx'], \n",
    "                         df['sery'])) for x in range(int(round(min(df['serx']),0)),\n",
    "                         int(round(max(df['serx']),0)))]\n",
    "        \n",
    "        #plot scatter\n",
    "        plt.figure()\n",
    "        plt.subplot(111)\n",
    "        plt.scatter(df['serx'], df['sery'], s=10, label=df.keys())\n",
    "        \n",
    "        #plot regression\n",
    "        plt.plot(range(int(round(min(df['serx']),0)),\n",
    "                       int(round(max(df['serx']),0))),\n",
    "                 estimates, color='r', lw=2,\n",
    "                 label='r-squared: {}'.format(round(self.r_squared(series_x, \n",
    "                                              series_y),2)))\n",
    "        \n",
    "        #format plot\n",
    "        plt.legend()\n",
    "        plt.grid()\n",
    "\n",
    "        pylab.show()\n",
    "        \n",
    "#firgure out how to get column names in legend\n",
    "#publish current in ipynb\n",
    "#hypothesis testing\n",
    "\n",
    "reg = Reg()\n"
   ]
  },
  {
   "cell_type": "code",
   "execution_count": 16,
   "metadata": {
    "collapsed": false
   },
   "outputs": [],
   "source": [
    "import quandl\n",
    "import pandas as pd\n",
    "\n",
    "manufacturing_production = pd.DataFrame(quandl.get(\"ISM/MAN_PROD\", \n",
    "                                                   authtoken=\"zo7kqTM5GbbuJUNsTKVa\", \n",
    "                                                   start_date='2010-1-1',\n",
    "                                                   end_date='2016-6-30',\n",
    "                                                   collapse='quarterly'))\n",
    "\n",
    "manufacturing_labor = pd.DataFrame(quandl.get(\"BLSP/PRS30006013\", \n",
    "                                              authtoken=\"zo7kqTM5GbbuJUNsTKVa\", \n",
    "                                              start_date='2010-1-1',\n",
    "                                              end_date='2016-6-30',\n",
    "                                              collapse='quarterly'))"
   ]
  },
  {
   "cell_type": "code",
   "execution_count": 17,
   "metadata": {
    "collapsed": false
   },
   "outputs": [
    {
     "data": {
      "image/png": "[encoded data removed]",
      "text/plain": [
       "<matplotlib.figure.Figure at 0x10a44abe0>"
      ]
     },
     "metadata": {},
     "output_type": "display_data"
    }
   ],
   "source": [
    "reg.plot(manufacturing_production['Diffusion Index'], manufacturing_labor['Value'])"
   ]
  },
  {
   "cell_type": "code",
   "execution_count": null,
   "metadata": {
    "collapsed": true
   },
   "outputs": [],
   "source": []
  }
 ],
 "metadata": {
  "kernelspec": {
   "display_name": "Python 3",
   "language": "python",
   "name": "python3"
  },
  "language_info": {
   "codemirror_mode": {
    "name": "ipython",
    "version": 3
   },
   "file_extension": ".py",
   "mimetype": "text/x-python",
   "name": "python",
   "nbconvert_exporter": "python",
   "pygments_lexer": "ipython3",
   "version": "3.5.2"
  }
 },
 "nbformat": 4,
 "nbformat_minor": 0
}
